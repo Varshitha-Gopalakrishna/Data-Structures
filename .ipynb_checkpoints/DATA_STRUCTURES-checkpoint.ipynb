{
 "cells": [
  {
   "cell_type": "code",
   "execution_count": null,
   "id": "abab5bf7-8956-456c-aa1e-9f749126cde2",
   "metadata": {},
   "outputs": [],
   "source": [
    "\"\"\"\n",
    "Q1. Discuss string slicing and provide examples.\n",
    "Answer-\n",
    "    String slicing in python is a technique to extract specific parts of a string using special syntax. The syntax involves square brackets\n",
    "    and colon.\n",
    "    string[start : stop : step]\n",
    "    start - The index where the slice start (inclusive)\n",
    "    stop - The index where the slice ends (exclusive)\n",
    "    step - The interval between indices (optional)\n",
    "    If 'start' or 'stop' are omitted, they default to the beginning or end of the string, respectively.\n",
    "    If 'step' is omitted, it defaults to 1.\n",
    "    String slicing is a powerful tool in python for manipulating and extracting parts of strings effectively and concisely.\n",
    "\"\"\""
   ]
  },
  {
   "cell_type": "code",
   "execution_count": 6,
   "id": "3df63cf7-f13f-4bba-87fa-7a437a56674a",
   "metadata": {},
   "outputs": [
    {
     "name": "stdout",
     "output_type": "stream",
     "text": [
      "World\n",
      "Hello\n",
      "World!\n"
     ]
    }
   ],
   "source": [
    "#Examples for string slicing\n",
    "\n",
    "s = \"Hello, World!\"\n",
    "\n",
    "print(s[7 : 12])     #s[7 : 12] extracts characters from index 7 to index 11 (12 is exclusive)\n",
    "\n",
    "print(s[:5])         #omitting 'start', the slice starts from beginning of string to index 4\n",
    "\n",
    "print(s[7:])         #omitting 'stop', the slice starts from index 7 to the end of the string"
   ]
  },
  {
   "cell_type": "code",
   "execution_count": 10,
   "id": "616255dd-f2ad-4d4d-be92-eb4c9a6a9dfa",
   "metadata": {},
   "outputs": [
    {
     "name": "stdout",
     "output_type": "stream",
     "text": [
      "I am a Data Scientist at PW\n",
      "skills\n",
      "Data Scientist\n"
     ]
    }
   ],
   "source": [
    "#Negative indices can be used to slice from the end of the string\n",
    "\n",
    "n = \"I am a Data Scientist at PWskills\"\n",
    "\n",
    "print(n[:-6])     #slicing starts from beginning of the string to 7th character (since -6 is exclusive) from the end of the string\n",
    "\n",
    "print(n[-6:])     #slicing starts from 6th character from the end to the end of the string\n",
    "\n",
    "print(n[-26:-12]) #slicing starts from 26th character from end to the 13th character (since -12 is exclusive) from the end of the string"
   ]
  },
  {
   "cell_type": "code",
   "execution_count": 19,
   "id": "9618788a-f048-4e18-b862-e7cd9c06df34",
   "metadata": {},
   "outputs": [
    {
     "name": "stdout",
     "output_type": "stream",
     "text": [
      "aSinita Wk\n",
      " cets tPsil\n"
     ]
    }
   ],
   "source": [
    "#Using a 'step'\n",
    "\n",
    "n = \"I am a Data Scientist at PWskills\"\n",
    "\n",
    "print(n[10:30:2])    #Every second character from index 10 to 30 is extracted\n",
    " \n",
    "print(n[-22:-1:2])   ##Every second character from 22nd character from end to 30 is extracted"
   ]
  },
  {
   "cell_type": "code",
   "execution_count": 1,
   "id": "4d9de895-4aaa-4ff3-919a-157624caefe7",
   "metadata": {},
   "outputs": [
    {
     "name": "stdout",
     "output_type": "stream",
     "text": [
      "!dlroW ,olleH\n"
     ]
    }
   ],
   "source": [
    "#Reversing a string\n",
    "\n",
    "\n",
    "s = \"Hello, World!\"\n",
    "\n",
    "print(s[::-1])       #A step of -1 revers the string"
   ]
  },
  {
   "cell_type": "code",
   "execution_count": 13,
   "id": "4c0bf196-72d9-4be1-bbed-fa31626aaf45",
   "metadata": {},
   "outputs": [
    {
     "name": "stdout",
     "output_type": "stream",
     "text": [
      "Year:2024, Month:07, Day:20\n"
     ]
    }
   ],
   "source": [
    "#Practical example\n",
    "#Consider a scenario where you have a date string in the format 'YYYY-MM-DD' and you want to extract Year, Month and Day separately.\n",
    "\n",
    "date = \"2024-07-20\"\n",
    "\n",
    "Year = date[:4]     #Extracts the year 2024\n",
    "Month = date[5:7]   #Extracts the month 07\n",
    "Day = date[8:]      #Extracts the day 20\n",
    "\n",
    "print(f\"Year:{Year}, Month:{Month}, Day:{Day}\")"
   ]
  },
  {
   "cell_type": "code",
   "execution_count": null,
   "id": "f650d219-bace-4b5d-b3fd-18821b0d66ac",
   "metadata": {},
   "outputs": [],
   "source": [
    "\"\"\"\n",
    "Q2. Explain the key features of lists in Python.\n",
    "Answer-\n",
    "    Lists in python are versatile and powerful data structures that provide a way to store and manipulate an ordered collection of items.\n",
    "    The key features of lists in python are as follows-\n",
    "    1) Ordered collection - Lists maintain the order of elements. The first element added stays at first position, second at the second \n",
    "       element at the second position and so on.\n",
    "    2) Changeable (Mutable) - You can change the items in a list after it is created.\n",
    "    3) Heterogeneous Elements - Lists can contain elements of different types, including integers, floats, strings and other lists.\n",
    "    4) Dynamic size - Lists can grow or shrink in size as needed. You can add or remove elements dynamically.\n",
    "    5) Access by Index - Elements in a list can be accessed using their index number, starting from 0 for the first element.\n",
    "    6) Slicing - We can use slicing to access a range of elements in a list.\n",
    "    7) List comprehensions - List comprehensions provide a concise way to create lists.\n",
    "\"\"\""
   ]
  },
  {
   "cell_type": "code",
   "execution_count": 31,
   "id": "341d248c-04ce-4a94-9385-b43bef981a83",
   "metadata": {},
   "outputs": [
    {
     "name": "stdout",
     "output_type": "stream",
     "text": [
      "['Banana', 'Apple', 'Grapes']\n"
     ]
    }
   ],
   "source": [
    "#list is an ordered collection of items\n",
    "\n",
    "fruits = [\"Banana\", \"Apple\", \"Grapes\"]\n",
    "print(fruits) "
   ]
  },
  {
   "cell_type": "code",
   "execution_count": 32,
   "id": "aa9cb654-6ba1-43da-86bc-99cdbef0ff1a",
   "metadata": {},
   "outputs": [
    {
     "name": "stdout",
     "output_type": "stream",
     "text": [
      "['Strawberry', 'Apple', 'Grapes']\n"
     ]
    }
   ],
   "source": [
    "#Lists are mutable\n",
    "\n",
    "fruits = [\"Banana\", \"Apple\", \"Grapes\"]\n",
    "fruits[0] = \"Strawberry\"     \n",
    "print(fruits)"
   ]
  },
  {
   "cell_type": "code",
   "execution_count": 33,
   "id": "dc49b527-fabe-4efc-b86b-c59b16c27050",
   "metadata": {},
   "outputs": [
    {
     "name": "stdout",
     "output_type": "stream",
     "text": [
      "['pwskills', 1, 2.6, [888, 99.9, 'list inside list']]\n"
     ]
    }
   ],
   "source": [
    "#Lists can store heterogeneous elements\n",
    "\n",
    "list1 = [\"pwskills\", 1, 2.6, [888, 99.9, \"list inside list\"]]\n",
    "print(list1)"
   ]
  },
  {
   "cell_type": "code",
   "execution_count": 6,
   "id": "bbd0f06c-6629-4b7c-9aad-6be3dd3614d0",
   "metadata": {},
   "outputs": [
    {
     "name": "stdout",
     "output_type": "stream",
     "text": [
      "['pwskills', 1, [888, 99.9, 'list inside list']]\n",
      "['pwskills', 1]\n",
      "['pwskills', 1, 99.6]\n"
     ]
    }
   ],
   "source": [
    "#You can add or remove elements in a list dynamically\n",
    "\n",
    "list1 = [\"pwskills\", 1, 2.6, [888, 99.9, \"list inside list\"]]\n",
    "\n",
    "list1.remove(2.6)     #.remove()Removes a specified element from the list\n",
    "print(list1)\n",
    "\n",
    "list1.pop()           #.pop() pops out the last element from the list\n",
    "print(list1)\n",
    "\n",
    "list1.append(99.6)    #.append() adds a specified element to the list\n",
    "print(list1)"
   ]
  },
  {
   "cell_type": "code",
   "execution_count": 34,
   "id": "5c68930a-64ab-4c6d-8a10-90b90bd8edb9",
   "metadata": {},
   "outputs": [
    {
     "name": "stdout",
     "output_type": "stream",
     "text": [
      "Banana\n",
      "Grapes\n",
      "Apple\n"
     ]
    }
   ],
   "source": [
    "#Elements in a list can be accessed using their index number, starting from 0 for the first element\n",
    "\n",
    "fruits = [\"Banana\", \"Apple\", \"Grapes\"]\n",
    "print(fruits[0])\n",
    "print(fruits[-1])\n",
    "print(fruits[1])"
   ]
  },
  {
   "cell_type": "code",
   "execution_count": 10,
   "id": "290d25a0-9cc4-482d-9cae-a11f749a385a",
   "metadata": {},
   "outputs": [
    {
     "name": "stdout",
     "output_type": "stream",
     "text": [
      "[5, 7, 11]\n",
      "[53, 69, 75]\n",
      "[82, 75, 69, 53, 21, 11, 7, 5, 8, 1]\n"
     ]
    }
   ],
   "source": [
    "# slicing a string to access a range of elements.\n",
    "num = [1,8,5,7,11,21,53,69,75,82]\n",
    "print(num[2:5])      #accessing range of elements through slicing using their index numbers\n",
    "print(num[-4:-1])    #Slicing using negative indices to access elements from the end of the list\n",
    "print(num[::-1])     #Reversing elements in the list"
   ]
  },
  {
   "cell_type": "code",
   "execution_count": 22,
   "id": "4ef71ebc-6235-4691-93b3-10d7740e65e6",
   "metadata": {},
   "outputs": [
    {
     "name": "stdout",
     "output_type": "stream",
     "text": [
      "[0, 1, 4, 9, 16, 25]\n",
      "[0, 1, 4, 9, 16, 25]\n"
     ]
    }
   ],
   "source": [
    "#List comprehension\n",
    "#A list of squares of numbers from 0 to 5 without list comprehension\n",
    "\n",
    "x = []\n",
    "for i in range(6):\n",
    "    x.append(i ** 2)\n",
    "print(x)\n",
    "\n",
    "#A list of squares of numbers from 0 to 5 with list comprehension\n",
    "\n",
    "Squares = [(i ** 2)for i in range(6)]\n",
    "print(Squares)\n",
    "\n",
    "#Both methods create the same list, [0, 1, 4, 9, 16, 25]. The traditional for loop method is more explicit and may be easier to understand.\n",
    "#While list comprehension is shorter and more concise."
   ]
  },
  {
   "cell_type": "code",
   "execution_count": null,
   "id": "ff3e0938-f85f-4bc1-8cd1-7227f542e4f5",
   "metadata": {},
   "outputs": [],
   "source": [
    "\"\"\"\n",
    "Q3. Describe how to access, modify, and delete elements in a list with examples.\n",
    "Answer-\n",
    "    1) Accessing elements in a list - You can access elements in a list using their index. Indexing starts from 0 for first element.\n",
    "    2) Modifying elements in a list - You can change the value of an element by assigning a new value to a specific index.\n",
    "    3) Deleting elements from a list - You can delete elements from a list using the 'del' statement, 'remove()' method, or 'pop()' method.\n",
    "\"\"\""
   ]
  },
  {
   "cell_type": "code",
   "execution_count": 26,
   "id": "4d180e97-1621-47d9-b02d-2900725c3b21",
   "metadata": {},
   "outputs": [
    {
     "name": "stdout",
     "output_type": "stream",
     "text": [
      "Karnataka\n",
      "Tamil Nadu\n",
      "['Telangana', 'Maharashtra']\n"
     ]
    }
   ],
   "source": [
    "#1) Accessing elements in a list\n",
    "\n",
    "states = [\"Karnataka\", \"Telangana\", \"Maharashtra\", \"Kerala\", \"Tamil Nadu\"]\n",
    "print(states[0])             #accessing first element in a list\n",
    "\n",
    "print(states[-1])            #accessing last element using negative indexing\n",
    "\n",
    "print(states[1:3])           #accessing a range of elements in a list using slicing "
   ]
  },
  {
   "cell_type": "code",
   "execution_count": 42,
   "id": "628424b6-d48e-46e6-b6e9-c9321efee5b7",
   "metadata": {},
   "outputs": [
    {
     "name": "stdout",
     "output_type": "stream",
     "text": [
      "['Karnataka', 'Andhra Pradesh', 'Maharashtra', 'Kerala', 'Tamil Nadu']\n",
      "['Karnataka', 'Andhra Pradesh', 'Madhya Pradesh', 'Goa', 'Tamil Nadu']\n"
     ]
    }
   ],
   "source": [
    "#2) Modifying elements in a list\n",
    "\n",
    "states = [\"Karnataka\", \"Telangana\", \"Maharashtra\", \"Kerala\", \"Tamil Nadu\"]\n",
    "\n",
    "states[1] = \"Andhra Pradesh\"   #Modifying the value of specific index\n",
    "print(states)\n",
    "\n",
    "states[2:4] = [\"Madhya Pradesh\", \"Goa\"]  # Modifying a range of elements\n",
    "print(states)"
   ]
  },
  {
   "cell_type": "code",
   "execution_count": 3,
   "id": "3c9c5eae-45dd-43dc-8c50-3d334b3194b5",
   "metadata": {},
   "outputs": [
    {
     "name": "stdout",
     "output_type": "stream",
     "text": [
      "['Karnataka', 'Telangana', 'Maharashtra', 'Tamil Nadu']\n",
      "['Karnataka', 'Tamil Nadu']\n"
     ]
    }
   ],
   "source": [
    "#3) Deleting elements from a list\n",
    "#Using 'del' statement\n",
    "\n",
    "states = [\"Karnataka\", \"Telangana\", \"Maharashtra\", \"Kerala\", \"Tamil Nadu\"]\n",
    "\n",
    "del states[3]      #Deleting a single element from the list    \n",
    "print(states)\n",
    "\n",
    "del states[1:3]    #Deleting range of elements from the list\n",
    "print(states)"
   ]
  },
  {
   "cell_type": "code",
   "execution_count": 4,
   "id": "db11bc64-72a6-4a23-84f0-74505dc66ef2",
   "metadata": {},
   "outputs": [
    {
     "name": "stdout",
     "output_type": "stream",
     "text": [
      "['Karnataka', 'Telangana', 'Maharashtra', 'Tamil Nadu']\n"
     ]
    }
   ],
   "source": [
    "#Using remove method\n",
    "# .remove() method is used for value based deletion\n",
    "\n",
    "states = [\"Karnataka\", \"Telangana\", \"Maharashtra\", \"Kerala\", \"Tamil Nadu\"]\n",
    "states.remove(\"Kerala\")\n",
    "print(states)"
   ]
  },
  {
   "cell_type": "code",
   "execution_count": 13,
   "id": "104e1dac-2c79-4cf3-b02c-9ca783a51331",
   "metadata": {},
   "outputs": [
    {
     "name": "stdout",
     "output_type": "stream",
     "text": [
      "['Karnataka', 'Telangana', 'Maharashtra', 'Kerala']\n",
      "Telangana\n",
      "['Karnataka', 'Maharashtra', 'Kerala']\n"
     ]
    }
   ],
   "source": [
    "#Using pop method\n",
    "# .pop() is used to remove last element, and for index-based removal with returned value\n",
    "\n",
    "\n",
    "states = [\"Karnataka\", \"Telangana\", \"Maharashtra\", \"Kerala\", \"Tamil Nadu\"]\n",
    "\n",
    "#Removing the last element\n",
    "states.pop()\n",
    "print(states)\n",
    "\n",
    "#Removing an element by index\n",
    "poped_item = states.pop(1)\n",
    "print(poped_item)\n",
    "print(states)"
   ]
  },
  {
   "cell_type": "code",
   "execution_count": null,
   "id": "d90b10aa-a211-4bcc-8cf0-4e4690ac90fd",
   "metadata": {},
   "outputs": [],
   "source": [
    "\"\"\"\n",
    "Q4. Compare and contrast tuples and lists with examples.\n",
    "Answer-\n",
    "    Tuples and lists are both data structures in Python used to store collections of items. Following are the comparison and contrast\n",
    "    of Lists and Tuples -\n",
    "    1) Mutability - Lists are mutable, allowing modifications, while Tuples are immutable, meaning they cannot be changed after creation.\n",
    "    2) Syntax - The syntax of lists is defined as square brackets '[]', while the syntax of tuples is defined as parentheses '()'.\n",
    "    3) Use case - We use lists when we need a collection that can change over time, whereas we Use tuples when we need a collection that\n",
    "       should remain constant.\n",
    "    4) Methods - Lists have more methods for modification (append(), remove(), pop()), while tuples have fewer methods (count(), index()).\n",
    "    5) Performance - Lists are slower than tuples for operations due to mutability, while Tuples are faster due to immutability.\n",
    "    6) Memory - Lists uses more memory, tuples use less memory.\n",
    "\"\"\""
   ]
  },
  {
   "cell_type": "code",
   "execution_count": 18,
   "id": "10a0f5fa-7b21-45cd-a7cb-8c2653338f25",
   "metadata": {},
   "outputs": [
    {
     "name": "stdout",
     "output_type": "stream",
     "text": [
      "[2, 4, 6, 8, 10, 12]\n",
      "[2, 14, 6, 8, 10, 12]\n",
      "[2, 14, 6, 10, 12]\n",
      "[2, 14, 6, 10]\n",
      "12\n"
     ]
    }
   ],
   "source": [
    "#Example for a list\n",
    "\n",
    "numbers = [2, 4, 6, 8, 10]   #creating a list\n",
    "\n",
    "numbers.append(12)           #adding an element to the list\n",
    "print(numbers)\n",
    "\n",
    "numbers[1] = 14              #changing an element\n",
    "print(numbers)                \n",
    "\n",
    "numbers.remove(8)            #removing an element\n",
    "print(numbers)\n",
    "\n",
    "poped_item1 = numbers.pop()  #removes the last element\n",
    "print(numbers)\n",
    "print(poped_item1)"
   ]
  },
  {
   "cell_type": "code",
   "execution_count": 26,
   "id": "6b20a89a-2cef-454e-be33-50428c0e31cf",
   "metadata": {},
   "outputs": [
    {
     "name": "stdout",
     "output_type": "stream",
     "text": [
      "27\n",
      "(17, 27)\n",
      "1\n",
      "2\n"
     ]
    }
   ],
   "source": [
    "#Example for a Tuple\n",
    "\n",
    "ids = (6, 9, 10, 22, 17, 27)   #creating a tuple\n",
    "\n",
    "print(ids[5])                  #accessing an element\n",
    "\n",
    "print(ids[4:6])                #slicing a tuple\n",
    "\n",
    "print(ids.count(6))            #counting occurence of a specific element\n",
    "\n",
    "print(ids.index(10))           #finding index of a specific element"
   ]
  },
  {
   "cell_type": "code",
   "execution_count": null,
   "id": "0ad82924-f9ca-48f6-917c-f749083be41f",
   "metadata": {},
   "outputs": [],
   "source": [
    "\"\"\"\n",
    "Q5. Describe the key features of sets and provide examples of their use.\n",
    "Answer-\n",
    "    Sets in python are highly useful for scenarios where you need to store unique items and perform fast membership tests, as well as\n",
    "    for mathematical operations involving multiple sets. Key features of sets are as follows-\n",
    "    1) Unordered collection - Sets do not maintain any order for elements. The item in a set appear in an arbitrary order.\n",
    "    2) Unique elements - Sets automatically ensure that all elements are unique. Duplicate values are not allowed.\n",
    "    3) Mutable - Sets can be modified after their creation. We can add or remove elements.\n",
    "    4) No indexing - Since sets are unordered, we cannot access elements using an index. This means no slicing or indexing.\n",
    "    5) Set comprehensions - Similar to list comprehensions, we can create sets using set comprehensions.\n",
    "\"\"\""
   ]
  },
  {
   "cell_type": "code",
   "execution_count": 35,
   "id": "cbb970ae-8b66-414a-b0d2-415b4a53983c",
   "metadata": {},
   "outputs": [
    {
     "name": "stdout",
     "output_type": "stream",
     "text": [
      "{1, 2, 3, 4, 5}\n",
      "{1, 2, 3, 4, 5}\n",
      "{1, 2, 3, 4, 5, 6}\n",
      "{1, 2, 3, 4}\n"
     ]
    }
   ],
   "source": [
    "#Example of set\n",
    "\n",
    "set1 = {1, 2, 3, 4, 5}       #creating a set\n",
    "print(set1)\n",
    "\n",
    "set2 = {1, 2, 2, 3, 4, 5, 5, 5}  #Duplicates are not allowed, they will be ignored\n",
    "print(set2)\n",
    "\n",
    "set1.add(6)            #adding an element\n",
    "print(set1)\n",
    "\n",
    "set2.remove(5)        #removing an element\n",
    "print(set2)"
   ]
  },
  {
   "cell_type": "code",
   "execution_count": 48,
   "id": "de39792f-5ff5-4c5c-a611-00f4dafff0ff",
   "metadata": {},
   "outputs": [
    {
     "name": "stdout",
     "output_type": "stream",
     "text": [
      "{0, 2, 4, 6, 8, 10, 12, 14, 16, 18, 20}\n",
      "<class 'set'>\n",
      "{0, 2, 4, 6, 8, 10, 12, 14, 16, 18, 20}\n",
      "<class 'set'>\n"
     ]
    }
   ],
   "source": [
    "#set comprehension\n",
    "#A set of even numbers from 0 to 20 without set comprehension\n",
    "\n",
    "x = set()\n",
    "for i in range(21):\n",
    "    if i % 2 == 0:\n",
    "        x.add(i)\n",
    "print(x)\n",
    "print(type(x))\n",
    "\n",
    "\n",
    "#A set of even numbers from 0 to 20 with set comprehension\n",
    "\n",
    "even_num = {x for x in range(21) if x % 2 == 0}\n",
    "print(even_num)\n",
    "print(type(even_num))\n",
    "\n",
    "#Both methods create the same set, [0, 2, 4, 6, 8, 10, 12, 14, 16, 18, 20]. The traditional for loop method is more explicit \n",
    "#and may be easier to understand. While set comprehension is shorter and more concise."
   ]
  },
  {
   "cell_type": "code",
   "execution_count": null,
   "id": "c81988c7-d866-46a5-8b58-b61908c14050",
   "metadata": {},
   "outputs": [],
   "source": [
    "\"\"\"\n",
    "Q6. Discuss the use cases of tuples and sets in Python programming.\n",
    "Answer-\n",
    "    Tuples are a versatile and efficient data structure in Python, often used when a collection of items is needed but should not be \n",
    "    modified. Sets in Python are an unordered collection of unique elements. They are highly efficient for membership tests and support \n",
    "    various set operations. Following are the use cases of Tuple and Set.\n",
    "\"\"\""
   ]
  },
  {
   "cell_type": "code",
   "execution_count": 52,
   "id": "763c3095-b011-494a-8a5e-c808f52919f0",
   "metadata": {},
   "outputs": [
    {
     "name": "stdout",
     "output_type": "stream",
     "text": [
      "('Sunday', 'Monday', 'Tuesday', 'Wednesday', 'Thursday', 'Friday', 'Saturday')\n"
     ]
    }
   ],
   "source": [
    "\"\"\"\n",
    "Use cases of Tuples in python programming-\n",
    "1) Fixed collection of items - Tuples are used when you need a collection of items that should not change throughout the program.\n",
    "Example: Storing a collection of constants.\n",
    "\"\"\"\n",
    "\n",
    "days = (\"Sunday\", \"Monday\", \"Tuesday\", \"Wednesday\", \"Thursday\", \"Friday\", \"Saturday\") \n",
    "print(days)"
   ]
  },
  {
   "cell_type": "code",
   "execution_count": 57,
   "id": "163a43b7-5783-4a5b-aa75-c7f71f3ffb24",
   "metadata": {},
   "outputs": [
    {
     "name": "stdout",
     "output_type": "stream",
     "text": [
      "dict_keys([('Mom', 'Dad'), ('Sis', 'Bro')])\n"
     ]
    }
   ],
   "source": [
    "\"\"\"\n",
    "2) Dictionary keys - Tuples can be used as keys in dictionaries because they are immutable.\n",
    "\"\"\"\n",
    "\n",
    "shopping = {\n",
    "    (\"Mom\", \"Dad\") : 10000,\n",
    "    (\"Sis\", \"Bro\") : 5000\n",
    "}\n",
    "\n",
    "print(shopping.keys())"
   ]
  },
  {
   "cell_type": "code",
   "execution_count": 6,
   "id": "1510eddf-185d-4bdb-8f04-3f56b8235695",
   "metadata": {},
   "outputs": [
    {
     "name": "stdout",
     "output_type": "stream",
     "text": [
      "name:Gopal, age:42, city:Mysore\n"
     ]
    }
   ],
   "source": [
    "\"\"\"\n",
    "3)Packing and Unpacking - When we create a tuple, we normally assign values to it. This is called \"packing\" a tuple.\n",
    "   But, in Python, we are also allowed to extract the values back into variables. This is called \"unpacking\".\n",
    "   Example: Storing a Person's Information\n",
    "\"\"\"\n",
    "\n",
    "person = (\"Gopal\", 42, \"Mysore\")      #packing values into a tuple\n",
    "\n",
    "name, age, city = person              #unpacking tuple into variables\n",
    "\n",
    "print(f\"name:{name}, age:{age}, city:{city}\") "
   ]
  },
  {
   "cell_type": "code",
   "execution_count": 1,
   "id": "a84c1d7c-c888-49a8-ab60-20e5b1e777d6",
   "metadata": {},
   "outputs": [
    {
     "name": "stdout",
     "output_type": "stream",
     "text": [
      "[1, 2, 3, 4, 5, 6, 7, 8, 9]\n"
     ]
    }
   ],
   "source": [
    "\"\"\"\n",
    "Use cases of Sets in python programming-\n",
    "1) Removing Duplicates - Sets are commonly used to remove duplicate entries from a list or other collections.\n",
    "\"\"\"\n",
    "#Example-\n",
    "\n",
    "my_list = [4, 4, 6, 7, 4, 2, 3, 2, 6, 9, 9, 7, 8, 1, 4, 2, 5]\n",
    "set1 = set(my_list)\n",
    "new_list = list(set1)\n",
    "print(new_list)"
   ]
  },
  {
   "cell_type": "code",
   "execution_count": 5,
   "id": "f560ca44-d356-49b9-8e88-5b94bf08f5f9",
   "metadata": {},
   "outputs": [
    {
     "name": "stdout",
     "output_type": "stream",
     "text": [
      "True\n",
      "False\n"
     ]
    }
   ],
   "source": [
    "\"\"\"\n",
    "2) Membership Testing - Sets provide an efficient way to check for the presence of an element.\n",
    "\"\"\"\n",
    "#Example-\n",
    "\n",
    "S = {\"India\", 100, 101.00, False}\n",
    "\n",
    "print(\"India\" in S)         \n",
    "print(1 in S)\n",
    "\n",
    "#'in' membership operator checks whether \"India\" present in set 'S', '1' in 'S', if Yes the output will be True, if no it will be False.\n",
    "#The output will be of Boolean value."
   ]
  },
  {
   "cell_type": "code",
   "execution_count": 12,
   "id": "4e4d778b-9711-4fd8-a9ee-d1405760c390",
   "metadata": {},
   "outputs": [
    {
     "name": "stdout",
     "output_type": "stream",
     "text": [
      "{4, 5, 6, 7, 8}\n",
      "{6}\n",
      "{4, 5}\n",
      "{4, 5, 7, 8}\n"
     ]
    }
   ],
   "source": [
    "\"\"\"\n",
    "3) Mathematical set operations - Sets support mathematical operations like union, intersection, difference, and symmetric difference.\n",
    "\"\"\"\n",
    "#Example\n",
    "\n",
    "Set1 = {4, 5, 6}\n",
    "Set2 = {6, 7, 8}\n",
    "\n",
    "print(Set1 | Set2)      #Union - combines elements from two sets excluding duplicates\n",
    "\n",
    "print(Set1 & Set2)      #Intersection - returns only common elements between the sets\n",
    "\n",
    "print(Set1 - Set2)      #Difference - returns the elements that is present in first set and not in second\n",
    "\n",
    "print(Set1 ^ Set2)      #Symmetric difference - returns all the elements other than common elements"
   ]
  },
  {
   "cell_type": "code",
   "execution_count": null,
   "id": "5e358f9f-57db-4105-aeb6-96dc1defb194",
   "metadata": {},
   "outputs": [],
   "source": [
    "\"\"\"\n",
    "Q7. Describe how to add, modify, and delete items in a dictionary with examples.\n",
    "Answer-\n",
    "    Dictionaries in Python are mutable, meaning you can change their contents. Dictionaries are the fastest among all data structures.\n",
    "    Dictionaries store the data in the form of( key : value ) pair. Keys are unique and immutable.\n",
    "\"\"\""
   ]
  },
  {
   "cell_type": "code",
   "execution_count": 6,
   "id": "e04c1670-4f5e-48fa-8b18-f3f01c81f33d",
   "metadata": {},
   "outputs": [
    {
     "name": "stdout",
     "output_type": "stream",
     "text": [
      "{'Name': 'Naresh', 'Age': 25, 'course': 'Python'}\n"
     ]
    }
   ],
   "source": [
    "\"\"\"\n",
    "1) Adding items to a dictionary - You can add items to a dictionary by assigning a value to a new key.\n",
    "\"\"\"\n",
    "#create an empty dictionary\n",
    "student = {}                  \n",
    "\n",
    "#adding items to dictionary\n",
    "student[\"Name\"] = \"Naresh\"\n",
    "student[\"Age\"]  =  25\n",
    "student[\"course\"] = \"Python\"\n",
    "\n",
    "print(student)"
   ]
  },
  {
   "cell_type": "code",
   "execution_count": 5,
   "id": "80cc631c-33d5-483f-a605-2192701ecae0",
   "metadata": {},
   "outputs": [
    {
     "name": "stdout",
     "output_type": "stream",
     "text": [
      "{'Name': 'Naresh', 'Age': 25, 'course': 'Java'}\n"
     ]
    }
   ],
   "source": [
    "\"\"\"\n",
    "2) Modifying items in a dictionary - You can modify an existing item in a dictionary by assigning a new value to an existing key.\n",
    "\"\"\"\n",
    "\n",
    "#Existing dictionary\n",
    "student = {'Name': 'Naresh', 'Age': 25, 'course': 'Python'}\n",
    "\n",
    "#Modifying the value of an existing key\n",
    "student['course'] = \"Java\"\n",
    "print(student)"
   ]
  },
  {
   "cell_type": "code",
   "execution_count": 9,
   "id": "3606b018-a019-4c99-ac77-3e55b1c7fed0",
   "metadata": {},
   "outputs": [
    {
     "name": "stdout",
     "output_type": "stream",
     "text": [
      "{'Name': 'Naresh', 'Age': 25}\n"
     ]
    }
   ],
   "source": [
    "\"\"\"\n",
    "3) Deleting items from the dictionary - You can delete items from a dictionary using the 'del' statement or the pop() method.\n",
    "\"\"\"\n",
    "#Existing dictionary\n",
    "student = {'Name': 'Naresh', 'Age': 25, 'course': 'Python'}\n",
    "\n",
    "#Deleting an item by key\n",
    "del student[\"course\"]\n",
    "print(student)"
   ]
  },
  {
   "cell_type": "code",
   "execution_count": 11,
   "id": "f09655c9-df08-4fc2-8b2b-c5d1a62f6304",
   "metadata": {},
   "outputs": [
    {
     "name": "stdout",
     "output_type": "stream",
     "text": [
      "{'Name': 'Naresh', 'course': 'Python'}\n",
      "25\n"
     ]
    }
   ],
   "source": [
    "#Using pop() method - The pop() method removes the item with the specified key and returns its value.\n",
    "\n",
    "#Existing dictionary\n",
    "student = {'Name': 'Naresh', 'Age': 25, 'course': 'Python'}\n",
    "\n",
    "#Deleting an item by key using pop()\n",
    "age = student.pop(\"Age\")\n",
    "\n",
    "print(student)\n",
    "print(age)"
   ]
  },
  {
   "cell_type": "code",
   "execution_count": null,
   "id": "c8f1fde8-8b6f-4105-8814-b3705e5b604e",
   "metadata": {},
   "outputs": [],
   "source": [
    "\"\"\"\n",
    "Q8. Discuss the importance of dictionary keys being immutable and provide examples.\n",
    "Answer-\n",
    "    In Python, dictionary keys must be immutable. This immutability is crucial for the following reasons:\n",
    "    1) Hashing requirement - Dictionaries are implemented using hash tables. The keys of a dictionary must be hashable, which means their \n",
    "       hash value cannot change during their lifetime. Immutable objects have a fixed hash value, making them suitable for dictionary keys.\n",
    "       Mutable objects, such as lists or other dictionaries, can change, leading to inconsistent hash values and making it impossible to \n",
    "       retrieve the stored value reliably.\n",
    "       \n",
    "    2) Data Integrity - Immutability ensures that the (key:value) pairs in a dictionary remain consistent and accessible throughout the \n",
    "       program. If keys could change, it would be difficult to maintain the integrity of the dictionary, as the location of the key in the \n",
    "       hash table might change, leading to lost or inaccessible data.\n",
    "       \n",
    "    By understanding and adhering to the immutability requirement for dictionary keys, you can ensure the reliability and integrity of your\n",
    "    data structures in Python.\n",
    "\"\"\""
   ]
  },
  {
   "cell_type": "code",
   "execution_count": 16,
   "id": "19caa841-7cdb-465e-b590-908f2208f571",
   "metadata": {},
   "outputs": [
    {
     "name": "stdout",
     "output_type": "stream",
     "text": [
      "dict_keys(['tomato', 'amla'])\n",
      "30\n",
      "60\n"
     ]
    }
   ],
   "source": [
    "#Examples of dictionary keys being immutable\n",
    "#Immutable Objects (allowwed as dictionary keys)\n",
    "\n",
    "#Using strings as dictionary keys to represent vegetables and their price in a shop\n",
    "\n",
    "shop = {\"tomato\" : 30, \"amla\" : 60}\n",
    "print(shop.keys())\n",
    "print(shop[\"tomato\"])\n",
    "print(shop[\"amla\"])"
   ]
  },
  {
   "cell_type": "code",
   "execution_count": 19,
   "id": "70de4656-4f04-416c-8e0c-28ed1a777931",
   "metadata": {},
   "outputs": [
    {
     "name": "stdout",
     "output_type": "stream",
     "text": [
      "Shakthi\n",
      "Seetha\n"
     ]
    }
   ],
   "source": [
    "#Using integers as dictionary keys to represent student ID's and their names\n",
    "\n",
    "names = {\n",
    "    101 : \"Shiv\",\n",
    "    102 : \"Shakthi\",\n",
    "    103 : \"Ram\",\n",
    "    104 : \"Seetha\",\n",
    "}\n",
    "\n",
    "print(names[102])\n",
    "print(names[104])"
   ]
  },
  {
   "cell_type": "code",
   "execution_count": 22,
   "id": "0615b9a0-261d-4dc7-8693-fc10bc006ba7",
   "metadata": {},
   "outputs": [
    {
     "name": "stdout",
     "output_type": "stream",
     "text": [
      "Large\n"
     ]
    }
   ],
   "source": [
    "#Using tuples as dictionary keys to represent dimensions and their size\n",
    "\n",
    "dimensions = {(10, 20) : \"Small\",\n",
    "              (20, 40) : \"Medium\",\n",
    "              (40, 80) : \"Large\"\n",
    "}\n",
    "\n",
    "print(dimensions[(40, 80)])"
   ]
  },
  {
   "cell_type": "code",
   "execution_count": 24,
   "id": "5065b669-e174-42aa-b4ba-c1b7be2fb4d4",
   "metadata": {},
   "outputs": [
    {
     "name": "stdout",
     "output_type": "stream",
     "text": [
      "22\n"
     ]
    }
   ],
   "source": [
    "\"\"\"\n",
    "Practical example demonstrating Importance of dictionary keys being immutable -\n",
    "Imagine you need to track the number of hours each employee worked on different projects. You can use a tuple (employee name, project name)\n",
    "as the key to store the hours worked.\n",
    "\"\"\"\n",
    "\n",
    "\n",
    "work_hours = {\n",
    "    (\"Ranjitha\", \"Visa\") : 16,\n",
    "    (\"Naresh\", \"Bit Bee\") : 22,\n",
    "    (\"Meera\", \"Metawave\") : 10\n",
    "}\n",
    "\n",
    "print(work_hours[\"Naresh\", \"Bit Bee\"])\n",
    "\n",
    "\n",
    "\n",
    "#Note - Immutable keys ensure that dictionary entries remain stable and accessible, which is crucial for maintaining data integrity in \n",
    "#various applications."
   ]
  }
 ],
 "metadata": {
  "kernelspec": {
   "display_name": "Python 3 (ipykernel)",
   "language": "python",
   "name": "python3"
  },
  "language_info": {
   "codemirror_mode": {
    "name": "ipython",
    "version": 3
   },
   "file_extension": ".py",
   "mimetype": "text/x-python",
   "name": "python",
   "nbconvert_exporter": "python",
   "pygments_lexer": "ipython3",
   "version": "3.10.8"
  }
 },
 "nbformat": 4,
 "nbformat_minor": 5
}
